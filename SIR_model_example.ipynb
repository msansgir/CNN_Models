{
 "cells": [
  {
   "cell_type": "code",
   "execution_count": 1,
   "metadata": {},
   "outputs": [],
   "source": [
    "import numpy as np \n",
    "from scipy.integrate import odeint\n",
    "import matplotlib.pyplot as plt"
   ]
  },
  {
   "cell_type": "code",
   "execution_count": 2,
   "metadata": {},
   "outputs": [],
   "source": [
    "#birth rate \n",
    "u = 0.059\n",
    "#death rate \n",
    "v = 0.007139\n",
    "#beta coefficient for I\n",
    "B = 0.18\n",
    "#Infected to recovered constnt \n",
    "Y = 0.35\n",
    "#Recovered to infected constant \n",
    "X = 0.0353\n"
   ]
  },
  {
   "cell_type": "code",
   "execution_count": 4,
   "metadata": {},
   "outputs": [],
   "source": [
    "# Total Polulation overtime\n",
    "population = 120\n",
    "P = np.linspace(1, 1 + u * population - v * population , population)\n",
    "\n",
    "#Initial rates for  S, I, R\n",
    "I0 , R0 = 0.0332, 0\n",
    "S0 = 0.32\n",
    "\n",
    "#Total number of people in SIR cycle\n",
    "N = S0 + I0 + R0\n",
    "\n",
    "t = np.linspace(0, population, population)"
   ]
  },
  {
   "cell_type": "code",
   "execution_count": 5,
   "metadata": {},
   "outputs": [],
   "source": [
    "def deriv(y, t):\n",
    "    S, I, R = y\n",
    "    dSdT = u + -1 * B * S * I - v * S\n",
    "    dIdT = B * S * I - Y*I + X*R - v*I\n",
    "    dRdT = Y*I - X*R - v*R\n",
    "    return dSdT, dIdT, dRdT\n"
   ]
  },
  {
   "cell_type": "code",
   "execution_count": 7,
   "metadata": {},
   "outputs": [
    {
     "data": {
      "text/plain": [
       "array([0.32      , 0.31833053, 0.31707574, 0.31611474, 0.3153621 ,\n",
       "       0.31475727, 0.31425731, 0.31383167, 0.31345862, 0.3131227 ,\n",
       "       0.31281287, 0.31252131, 0.3122424 , 0.31197216, 0.31170774,\n",
       "       0.31144713, 0.31118886, 0.31093191, 0.31067553, 0.31041922,\n",
       "       0.31016258, 0.30990535, 0.30964733, 0.3093884 , 0.30912844,\n",
       "       0.30886739, 0.30860519, 0.30834181, 0.30807722, 0.30781139,\n",
       "       0.30754432, 0.30727598, 0.30700638, 0.30673549, 0.30646333,\n",
       "       0.30618987, 0.30591512, 0.30563907, 0.30536172, 0.30508307,\n",
       "       0.3048031 , 0.30452182, 0.30423923, 0.30395532, 0.30367008,\n",
       "       0.30338353, 0.30309564, 0.30280643, 0.30251589, 0.30222401,\n",
       "       0.30193079, 0.30163624, 0.30134034, 0.3010431 , 0.30074451,\n",
       "       0.30044457, 0.30014327, 0.29984063, 0.29953662, 0.29923126,\n",
       "       0.29892454, 0.29861645, 0.298307  , 0.29799618, 0.29768399,\n",
       "       0.29737043, 0.2970555 , 0.29673919, 0.2964215 , 0.29610244,\n",
       "       0.29578199, 0.29546016, 0.29513695, 0.29481235, 0.29448637,\n",
       "       0.29415901, 0.29383024, 0.29350008, 0.29316853, 0.29283559,\n",
       "       0.29250126, 0.29216553, 0.2918284 , 0.29148988, 0.29114995,\n",
       "       0.29080862, 0.29046589, 0.29012176, 0.28977622, 0.28942928,\n",
       "       0.28908093, 0.28873118, 0.28838002, 0.28802745, 0.28767348,\n",
       "       0.2873181 , 0.28696131, 0.28660311, 0.2862435 , 0.28588248,\n",
       "       0.28552006, 0.28515622, 0.28479098, 0.28442432, 0.28405626,\n",
       "       0.28368679, 0.28331591, 0.28294361, 0.28256992, 0.28219481,\n",
       "       0.28181829, 0.28144037, 0.28106104, 0.28068031, 0.28029817,\n",
       "       0.27991463, 0.27952968, 0.27914333, 0.27875558, 0.27836643])"
      ]
     },
     "execution_count": 7,
     "metadata": {},
     "output_type": "execute_result"
    }
   ],
   "source": [
    "y0 = S0, I0, R0\n",
    "\n",
    "ret = odeint(deriv, y0, t)\n",
    "\n",
    "S, I, R = ret.T\n",
    "\n",
    "S"
   ]
  },
  {
   "cell_type": "code",
   "execution_count": 26,
   "metadata": {},
   "outputs": [
    {
     "data": {
      "image/png": "[encoded data removed]",
      "text/plain": [
       "<Figure size 432x288 with 1 Axes>"
      ]
     },
     "metadata": {},
     "output_type": "display_data"
    }
   ],
   "source": [
    "fig = plt.figure(facecolor = 'w')\n",
    "ax = fig.add_subplot(111, axisbelow=True)\n",
    "\n",
    "ax.plot(t, S, 'b', alpha = 1, lw = 2, label = \"Susceptible S(t)\")\n",
    "ax.plot(t, I, 'r', alpha = 1, lw = 2, label = \"Infected I(t)\")\n",
    "ax.plot(t, R, 'g', alpha = 1, lw = 2, label = \"Recovered R(t)\")\n",
    "\n",
    "ax.plot(t , (S + I + R), 'y', alpha = 1, lw = 2, label = \"Proportion in SIR Cycle (N)\")\n",
    "ax.plot(t, P, 'magenta', alpha = 1, lw=2, label = \"Total Population\")\n",
    "ax.set_xlabel(\"Time (Months)\")\n",
    "ax.set_ylabel(\"Fraction of US population\")\n",
    "\n",
    "ax.set_ylim(0, 1.1)\n",
    "ax.yaxis.set_tick_params(length = 0)\n",
    "ax.xaxis.set_tick_params(length=0)\n",
    "ax.grid(b=True, which ='major', c = 'w', lw=2, ls='-')\n",
    "\n",
    "legend = ax.legend(loc='center right', bbox_to_anchor=(1, 0.6)\n",
    "                  )\n",
    "legend.get_frame().set_alpha(1)\n",
    "plt.show(block=True)\n"
   ]
  }
 ],
 "metadata": {
  "kernelspec": {
   "display_name": "Python 3",
   "language": "python",
   "name": "python3"
  },
  "language_info": {
   "codemirror_mode": {
    "name": "ipython",
    "version": 3
   },
   "file_extension": ".py",
   "mimetype": "text/x-python",
   "name": "python",
   "nbconvert_exporter": "python",
   "pygments_lexer": "ipython3",
   "version": "3.7.3"
  }
 },
 "nbformat": 4,
 "nbformat_minor": 2
}
